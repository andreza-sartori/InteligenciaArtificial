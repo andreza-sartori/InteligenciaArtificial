{
  "nbformat": 4,
  "nbformat_minor": 0,
  "metadata": {
    "colab": {
      "name": "Teste.ipynb",
      "provenance": [],
      "authorship_tag": "ABX9TyMbb733MLP6Qel4Mo/4ofHy",
      "include_colab_link": true
    },
    "kernelspec": {
      "name": "python3",
      "display_name": "Python 3"
    },
    "language_info": {
      "name": "python"
    }
  },
  "cells": [
    {
      "cell_type": "markdown",
      "metadata": {
        "id": "view-in-github",
        "colab_type": "text"
      },
      "source": [
        "<a href=\"https://colab.research.google.com/github/andreza-sartori/InteligenciaArtificial/blob/main/Teste.ipynb\" target=\"_parent\"><img src=\"https://colab.research.google.com/assets/colab-badge.svg\" alt=\"Open In Colab\"/></a>"
      ]
    },
    {
      "cell_type": "markdown",
      "source": [
        "Este é um teste!"
      ],
      "metadata": {
        "id": "UeJGfFxx00ZA"
      }
    },
    {
      "cell_type": "code",
      "execution_count": 1,
      "metadata": {
        "id": "xXUqFhJ34Zs6",
        "colab": {
          "base_uri": "https://localhost:8080/"
        },
        "outputId": "1eb70b9b-6345-40d6-fb4a-406b15fdceee"
      },
      "outputs": [
        {
          "output_type": "stream",
          "name": "stdout",
          "text": [
            "olá!\n"
          ]
        }
      ],
      "source": [
        "print('olá!')"
      ]
    },
    {
      "cell_type": "code",
      "source": [
        "x=1+2\n",
        "x"
      ],
      "metadata": {
        "colab": {
          "base_uri": "https://localhost:8080/"
        },
        "id": "Dgf-ZGwu0t-k",
        "outputId": "2da7c474-6e6e-454b-92dc-fd0aeeae959f"
      },
      "execution_count": 3,
      "outputs": [
        {
          "output_type": "execute_result",
          "data": {
            "text/plain": [
              "3"
            ]
          },
          "metadata": {},
          "execution_count": 3
        }
      ]
    }
  ]
}